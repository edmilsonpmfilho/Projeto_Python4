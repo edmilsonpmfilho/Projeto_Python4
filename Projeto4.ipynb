{
 "cells": [
  {
   "cell_type": "markdown",
   "id": "6f8ba527",
   "metadata": {},
   "source": [
    "# Criando Modelo de de Previsão Usando Ciência de Dados\n",
    "## Desafio\n",
    "         - Conseguir prever as vendas em determinado periodo com base nos gastos em anuncios em 3 grandes redes q empresa     investe: TV,Jornal e Rádio.\n",
    "         \n",
    "\n",
    "#### 1º - Importar a base de dados\n",
    "#### 2º - Verificar se os dados estão no formato correto e se contem todos os dados estão preenchidos\n",
    "#### 3º - Importar bibliotecas graficas\n",
    "#### 4º - Importar bibliotecas para o modelo de previsão\n",
    "#### 5º - Criar base de dados para o modelo\n",
    "#### 6º - Analise grafica\n",
    "#### 7º - Deploy e Produção\n"
   ]
  },
  {
   "cell_type": "code",
   "execution_count": null,
   "id": "acf964e3",
   "metadata": {},
   "outputs": [],
   "source": [
    "import pandas as pd\n",
    "\n",
    "df = pd.read_csv(\"advertising.csv\")\n",
    "\n",
    "display(df)"
   ]
  },
  {
   "cell_type": "code",
   "execution_count": null,
   "id": "d4b4e4e6",
   "metadata": {},
   "outputs": [],
   "source": [
    "print(df.info())"
   ]
  },
  {
   "cell_type": "code",
   "execution_count": null,
   "id": "f08c8f0d",
   "metadata": {},
   "outputs": [],
   "source": [
    "import seaborn as sns\n",
    "import matplotlib.pyplot as plt\n",
    "\n",
    "#sns.pairplot(df)#Grafico de disperção\n",
    "\n",
    "sns.heatmap(df.corr(),cmap='Wistia', annot=True)#mapa de calor\n",
    "\n",
    "\n",
    "plt.show()\n",
    "\n"
   ]
  },
  {
   "cell_type": "code",
   "execution_count": null,
   "id": "0b763a56",
   "metadata": {},
   "outputs": [],
   "source": [
    "from sklearn.model_selection import train_test_split\n",
    "\n",
    "x = df.drop('Vendas', axis=1)#inputs do modelo\n",
    "\n",
    "y=df['Vendas']#outputs do modelo\n",
    "\n",
    "#x_train,#variavel x de treino\n",
    "#x_test,#variavel x de teste\n",
    "#y_train,y_test = train_test_split#metodo que permite a divisão dos dados entre teste e treino\n",
    "#(x,y,test_size=0.3,#define a proporção de dados em teste e reino\n",
    "#random_state=1#valor seed do aleatorio)\n",
    "\n",
    "x_train,x_test,y_train,y_test = train_test_split(x,y,test_size=0.3,random_state=1)\n",
    "\n"
   ]
  },
  {
   "cell_type": "code",
   "execution_count": null,
   "id": "d9d2c156",
   "metadata": {},
   "outputs": [],
   "source": [
    "from sklearn.linear_model import LinearRegression\n",
    "from sklearn.ensemble import RandomForestRegressor\n",
    "from sklearn import metrics\n",
    "import numpy as np\n",
    "\n",
    "#Treino AI\n",
    "#utiliza apenas a as variaveis de treino\n",
    "lin_reg = LinearRegression()\n",
    "lin_reg.fit(x_train, y_train)\n",
    "\n",
    "rf_reg= RandomForestRegressor()\n",
    "rf_reg.fit(x_train,y_train)\n",
    "\n",
    "#Teste AI\n",
    "#utilizar apenas as variaveis de teste\n",
    "\n",
    "test_pred_lin = lin_reg.predict(x_test)\n",
    "test_pred_rf = rf_reg.predict(x_test)\n",
    "\n",
    "r2_lin = metrics.r2_score(y_test,test_pred_lin)\n",
    "rmse_lin=np.sqrt(metrics.mean_squared_error(y_test,test_pred_lin))\n",
    "print(f\"R² do Regressão Linear: {r2_lin}\")\n",
    "print(f\"RSME da Regressão Linear: {rmse_lin}\")\n",
    "\n",
    "r2_rf = metrics.r2_score(y_test,test_pred_rf)\n",
    "rmse_rf = np.sqrt(metrics.mean_squared_error(y_test,test_pred_rf))\n",
    "print(f\"R² do Random Forest: {r2_rf}\")\n",
    "print(f\"RSM do Random Forest: {rmse_rf}\")\n",
    "\n",
    "\n",
    "\n"
   ]
  },
  {
   "cell_type": "code",
   "execution_count": null,
   "id": "8846d613",
   "metadata": {},
   "outputs": [],
   "source": [
    "df_resultado = pd.DataFrame()\n",
    "df_resultado['y_teste'] = y_test\n",
    "df_resultado['y_previsao_rf'] = test_pred_rf\n",
    "df_resultado['y_previsao_lin'] = test_pred_lin\n",
    "df_resultado = df_resultado.reset_index(drop=True)\n",
    "fig = plt.figure(figsize=(15,5))\n",
    "sns.lineplot(data=df_resultado)\n",
    "plt.show()\n",
    "display(df_resultado)\n",
    "\n",
    "#Linha Azul - Representa os dados reais de teste;\n",
    "#Linha Tracejada Laranja - Representa os daods de previsão calculados pelo modelo de Random Forest\n",
    "#Linha Verde Tracejada - Representa os dados de previsão calculados pelo modelo de Regressão Linear"
   ]
  },
  {
   "cell_type": "code",
   "execution_count": null,
   "id": "51743080",
   "metadata": {},
   "outputs": [],
   "source": [
    "importancia_features = pd.DataFrame(rf_reg.feature_importances_,x_train.columns)\n",
    "plt.figure(figsize=(5,5))\n",
    "sns.barplot(x=importancia_features.index, y=importancia_features[0])\n",
    "plt.show"
   ]
  },
  {
   "cell_type": "code",
   "execution_count": null,
   "id": "48bbc58d",
   "metadata": {},
   "outputs": [],
   "source": []
  }
 ],
 "metadata": {
  "kernelspec": {
   "display_name": "Python 3 (ipykernel)",
   "language": "python",
   "name": "python3"
  },
  "language_info": {
   "codemirror_mode": {
    "name": "ipython",
    "version": 3
   },
   "file_extension": ".py",
   "mimetype": "text/x-python",
   "name": "python",
   "nbconvert_exporter": "python",
   "pygments_lexer": "ipython3",
   "version": "3.9.12"
  }
 },
 "nbformat": 4,
 "nbformat_minor": 5
}
